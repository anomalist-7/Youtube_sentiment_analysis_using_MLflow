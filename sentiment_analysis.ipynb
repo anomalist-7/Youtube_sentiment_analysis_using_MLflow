{
 "cells": [
  {
   "cell_type": "code",
   "execution_count": 1,
   "id": "f9bf4b1a",
   "metadata": {},
   "outputs": [],
   "source": [
    "import pandas as pd\n",
    "import numpy as np\n",
    "import matplotlib.pyplot as plt\n",
    "import seaborn as sns\n",
    "import warnings"
   ]
  },
  {
   "cell_type": "code",
   "execution_count": 2,
   "id": "b46cc0b7",
   "metadata": {},
   "outputs": [],
   "source": [
    "df = pd.read_csv(\"reddit.csv\")"
   ]
  },
  {
   "cell_type": "markdown",
   "id": "87d5cab9",
   "metadata": {},
   "source": [
    "# Data preprocessing"
   ]
  },
  {
   "cell_type": "code",
   "execution_count": 3,
   "id": "c3ca8dca",
   "metadata": {},
   "outputs": [
    {
     "name": "stdout",
     "output_type": "stream",
     "text": [
      "Feature and Datatype\n",
      "================================================================================\n",
      "================================================================================\n",
      "<class 'pandas.core.frame.DataFrame'>\n",
      "RangeIndex: 37249 entries, 0 to 37248\n",
      "Data columns (total 2 columns):\n",
      " #   Column         Non-Null Count  Dtype \n",
      "---  ------         --------------  ----- \n",
      " 0   clean_comment  37149 non-null  object\n",
      " 1   category       37249 non-null  int64 \n",
      "dtypes: int64(1), object(1)\n",
      "memory usage: 582.1+ KB\n",
      "None\n",
      "================================================================================\n",
      "statistical summary\n",
      "================================================================================\n",
      "================================================================================\n",
      "           category\n",
      "count  37249.000000\n",
      "mean       0.202771\n",
      "std        0.778515\n",
      "min       -1.000000\n",
      "25%        0.000000\n",
      "50%        0.000000\n",
      "75%        1.000000\n",
      "max        1.000000\n",
      "================================================================================\n",
      "Number of empty values\n",
      "================================================================================\n",
      "================================================================================\n",
      "clean_comment    100\n",
      "category           0\n",
      "dtype: int64\n",
      "================================================================================\n",
      "None\n"
     ]
    },
    {
     "data": {
      "text/html": [
       "<div>\n",
       "<style scoped>\n",
       "    .dataframe tbody tr th:only-of-type {\n",
       "        vertical-align: middle;\n",
       "    }\n",
       "\n",
       "    .dataframe tbody tr th {\n",
       "        vertical-align: top;\n",
       "    }\n",
       "\n",
       "    .dataframe thead th {\n",
       "        text-align: right;\n",
       "    }\n",
       "</style>\n",
       "<table border=\"1\" class=\"dataframe\">\n",
       "  <thead>\n",
       "    <tr style=\"text-align: right;\">\n",
       "      <th></th>\n",
       "      <th>clean_comment</th>\n",
       "      <th>category</th>\n",
       "    </tr>\n",
       "  </thead>\n",
       "  <tbody>\n",
       "    <tr>\n",
       "      <th>0</th>\n",
       "      <td>family mormon have never tried explain them t...</td>\n",
       "      <td>1</td>\n",
       "    </tr>\n",
       "    <tr>\n",
       "      <th>1</th>\n",
       "      <td>buddhism has very much lot compatible with chr...</td>\n",
       "      <td>1</td>\n",
       "    </tr>\n",
       "    <tr>\n",
       "      <th>2</th>\n",
       "      <td>seriously don say thing first all they won get...</td>\n",
       "      <td>-1</td>\n",
       "    </tr>\n",
       "    <tr>\n",
       "      <th>3</th>\n",
       "      <td>what you have learned yours and only yours wha...</td>\n",
       "      <td>0</td>\n",
       "    </tr>\n",
       "    <tr>\n",
       "      <th>4</th>\n",
       "      <td>for your own benefit you may want read living ...</td>\n",
       "      <td>1</td>\n",
       "    </tr>\n",
       "  </tbody>\n",
       "</table>\n",
       "</div>"
      ],
      "text/plain": [
       "                                       clean_comment  category\n",
       "0   family mormon have never tried explain them t...         1\n",
       "1  buddhism has very much lot compatible with chr...         1\n",
       "2  seriously don say thing first all they won get...        -1\n",
       "3  what you have learned yours and only yours wha...         0\n",
       "4  for your own benefit you may want read living ...         1"
      ]
     },
     "execution_count": 3,
     "metadata": {},
     "output_type": "execute_result"
    }
   ],
   "source": [
    "print(\"Feature and Datatype\")\n",
    "print(\"==\"*40)\n",
    "print(\"==\"*40)\n",
    "print(df.info())\n",
    "print(\"==\"*40)\n",
    "print(\"statistical summary\")\n",
    "print(\"==\"*40)\n",
    "print(\"==\"*40)\n",
    "print(df.describe())\n",
    "print(\"==\"*40)\n",
    "print(\"Number of empty values\")\n",
    "print(\"==\"*40)\n",
    "print(\"==\"*40)\n",
    "print(df.isnull().sum())\n",
    "\n",
    "print(\"==\"*40)\n",
    "print(df.dropna(inplace=True))\n",
    "\n",
    "df.head()"
   ]
  },
  {
   "cell_type": "code",
   "execution_count": 4,
   "id": "551f71aa",
   "metadata": {},
   "outputs": [],
   "source": [
    "df.rename(columns={'clean_comment': 'comment'}, inplace=True)"
   ]
  },
  {
   "cell_type": "code",
   "execution_count": 5,
   "id": "c6afb8cc",
   "metadata": {},
   "outputs": [],
   "source": [
    "# basic text cleaning\n",
    "def clean_comment_block(df):\n",
    "    df['clean_comment'] = (\n",
    "        df['comment']\n",
    "          .fillna('')\n",
    "          .astype(str)\n",
    "          .str.lower()                                         # lower case\n",
    "          .str.replace(r'http\\S+|www\\.\\S+', ' ', regex=True)   # URLs\n",
    "          .str.replace(r'<.*?>', ' ', regex=True)              # HTML tags\n",
    "          .str.replace(r'&\\w+;', ' ', regex=True)              # HTML entities\n",
    "          .str.replace(r'@\\w+', ' ', regex=True)               # @mentions\n",
    "          .str.replace(r'#', '', regex=True)                   # drop hashtag symbol\n",
    "          .str.replace(r\"[^a-z\\s']\", ' ', regex=True)          # keep letters/space/' \n",
    "          .str.replace(r'\\s+', ' ', regex=True)                # collapse spaces\n",
    "          .str.replace(r'\\\\n', ' ', regex=True)                # literal \"\\n\"\n",
    "          .str.replace(r'[\\r\\n\\t]+', ' ', regex=True)          # actual newlines/tabs\n",
    "          .str.replace(r'\\s{2,}', ' ', regex=True)             # multiple spaces -> single\n",
    "          .str.strip()\n",
    "    )\n",
    "    #\n",
    "    df = df[~(df['clean_comment'].str.strip() == \"\")]\n",
    "    return df\n",
    "\n",
    "# usage:\n",
    "df = clean_comment_block(df)"
   ]
  },
  {
   "cell_type": "code",
   "execution_count": 6,
   "id": "3b211751",
   "metadata": {},
   "outputs": [
    {
     "name": "stdout",
     "output_type": "stream",
     "text": [
      "Number of duplicates:450\n",
      "================================================================================\n",
      "Preview first 20 duplicate rows\n",
      "================================================================================\n",
      "================================================================================\n",
      "            comment  category clean_comment\n",
      "19086       aadhar          0        aadhar\n",
      "13868       aadhar          0        aadhar\n",
      "4059           aap          0           aap\n",
      "3035           aap          0           aap\n",
      "2643    about time          0    about time\n",
      "2648    about time          0    about time\n",
      "27882    about time         0    about time\n",
      "14297   absolutely          1    absolutely\n",
      "29567    absolutely         1    absolutely\n",
      "20081    acche din          0     acche din\n",
      "20321    acche din          0     acche din\n",
      "4525      acche din         0     acche din\n",
      "29838    acche din          0     acche din\n",
      "12828    acche din          0     acche din\n",
      "5852     acche din™         0     acche din\n",
      "7000      ache din          0      ache din\n",
      "18789     ache din          0      ache din\n",
      "29432    achhe din          0     achhe din\n",
      "32040    achhe din          0     achhe din\n",
      "15045     achhe din         0     achhe din\n"
     ]
    }
   ],
   "source": [
    "\n",
    "def remove_duplicates(df):\n",
    "    # how many duplicates\n",
    "    print(f'Number of duplicates:{df['clean_comment'].duplicated().sum()}')\n",
    "    # preview all duplicate rows\n",
    "    print(\"==\"*40)\n",
    "    print(\"Preview first 20 duplicate rows\")\n",
    "    print(\"==\"*40)\n",
    "    print(\"==\"*40)\n",
    "    print(df[df['clean_comment'].duplicated(keep=False)].sort_values('clean_comment').head(20))\n",
    "    # drop duplicates (keep first)\n",
    "    df = df.drop_duplicates(subset='clean_comment', keep='first').reset_index(drop=True)\n",
    "    return df\n",
    "df = remove_duplicates(df) "
   ]
  },
  {
   "cell_type": "code",
   "execution_count": 7,
   "id": "1fe80ced",
   "metadata": {},
   "outputs": [
    {
     "data": {
      "text/plain": [
       "category\n",
       " 1    15721\n",
       " 0    12496\n",
       "-1     8233\n",
       "Name: count, dtype: int64"
      ]
     },
     "execution_count": 7,
     "metadata": {},
     "output_type": "execute_result"
    }
   ],
   "source": [
    "df['category'].value_counts()"
   ]
  },
  {
   "cell_type": "markdown",
   "id": "929a252a",
   "metadata": {},
   "source": [
    "# Exploratory Data Analysis"
   ]
  },
  {
   "cell_type": "code",
   "execution_count": 8,
   "id": "d1cce836",
   "metadata": {},
   "outputs": [
    {
     "ename": "ValueError",
     "evalue": "Mime type rendering requires nbformat>=4.2.0 but it is not installed",
     "output_type": "error",
     "traceback": [
      "\u001b[31m---------------------------------------------------------------------------\u001b[39m",
      "\u001b[31mValueError\u001b[39m                                Traceback (most recent call last)",
      "\u001b[36mCell\u001b[39m\u001b[36m \u001b[39m\u001b[32mIn[8]\u001b[39m\u001b[32m, line 36\u001b[39m\n\u001b[32m     33\u001b[39m     \u001b[38;5;28;01mreturn\u001b[39;00m fig, data\n\u001b[32m     35\u001b[39m \u001b[38;5;66;03m# usage\u001b[39;00m\n\u001b[32m---> \u001b[39m\u001b[32m36\u001b[39m \u001b[43mplot_category_distribution\u001b[49m\u001b[43m(\u001b[49m\u001b[43mdf\u001b[49m\u001b[43m,\u001b[49m\u001b[43m \u001b[49m\u001b[43mcol\u001b[49m\u001b[43m=\u001b[49m\u001b[33;43m'\u001b[39;49m\u001b[33;43mcategory\u001b[39;49m\u001b[33;43m'\u001b[39;49m\u001b[43m,\u001b[49m\u001b[43m \u001b[49m\u001b[43mkind\u001b[49m\u001b[43m=\u001b[49m\u001b[33;43m'\u001b[39;49m\u001b[33;43mbar\u001b[39;49m\u001b[33;43m'\u001b[39;49m\u001b[43m)\u001b[49m\n\u001b[32m     37\u001b[39m \u001b[38;5;66;03m# plot_category_distribution(df, col='category', kind='pie', top_n=10)\u001b[39;00m\n",
      "\u001b[36mCell\u001b[39m\u001b[36m \u001b[39m\u001b[32mIn[8]\u001b[39m\u001b[32m, line 32\u001b[39m, in \u001b[36mplot_category_distribution\u001b[39m\u001b[34m(df, col, kind, title)\u001b[39m\n\u001b[32m     26\u001b[39m     fig.update_traces(textposition=\u001b[33m'\u001b[39m\u001b[33moutside\u001b[39m\u001b[33m'\u001b[39m)\n\u001b[32m     27\u001b[39m     fig.update_layout(\n\u001b[32m     28\u001b[39m         xaxis_title=col, yaxis_title=\u001b[33m'\u001b[39m\u001b[33mCount\u001b[39m\u001b[33m'\u001b[39m,\n\u001b[32m     29\u001b[39m         showlegend=\u001b[38;5;28;01mFalse\u001b[39;00m, xaxis_tickangle=-\u001b[32m45\u001b[39m\n\u001b[32m     30\u001b[39m     )\n\u001b[32m---> \u001b[39m\u001b[32m32\u001b[39m \u001b[43mfig\u001b[49m\u001b[43m.\u001b[49m\u001b[43mshow\u001b[49m\u001b[43m(\u001b[49m\u001b[43m)\u001b[49m\n\u001b[32m     33\u001b[39m \u001b[38;5;28;01mreturn\u001b[39;00m fig, data\n",
      "\u001b[36mFile \u001b[39m\u001b[32m/opt/anaconda3/envs/yt_sentiment_proj/lib/python3.12/site-packages/plotly/basedatatypes.py:3420\u001b[39m, in \u001b[36mBaseFigure.show\u001b[39m\u001b[34m(self, *args, **kwargs)\u001b[39m\n\u001b[32m   3387\u001b[39m \u001b[38;5;250m\u001b[39m\u001b[33;03m\"\"\"\u001b[39;00m\n\u001b[32m   3388\u001b[39m \u001b[33;03mShow a figure using either the default renderer(s) or the renderer(s)\u001b[39;00m\n\u001b[32m   3389\u001b[39m \u001b[33;03mspecified by the renderer argument\u001b[39;00m\n\u001b[32m   (...)\u001b[39m\u001b[32m   3416\u001b[39m \u001b[33;03mNone\u001b[39;00m\n\u001b[32m   3417\u001b[39m \u001b[33;03m\"\"\"\u001b[39;00m\n\u001b[32m   3418\u001b[39m \u001b[38;5;28;01mimport\u001b[39;00m\u001b[38;5;250m \u001b[39m\u001b[34;01mplotly\u001b[39;00m\u001b[34;01m.\u001b[39;00m\u001b[34;01mio\u001b[39;00m\u001b[38;5;250m \u001b[39m\u001b[38;5;28;01mas\u001b[39;00m\u001b[38;5;250m \u001b[39m\u001b[34;01mpio\u001b[39;00m\n\u001b[32m-> \u001b[39m\u001b[32m3420\u001b[39m \u001b[38;5;28;01mreturn\u001b[39;00m \u001b[43mpio\u001b[49m\u001b[43m.\u001b[49m\u001b[43mshow\u001b[49m\u001b[43m(\u001b[49m\u001b[38;5;28;43mself\u001b[39;49m\u001b[43m,\u001b[49m\u001b[43m \u001b[49m\u001b[43m*\u001b[49m\u001b[43margs\u001b[49m\u001b[43m,\u001b[49m\u001b[43m \u001b[49m\u001b[43m*\u001b[49m\u001b[43m*\u001b[49m\u001b[43mkwargs\u001b[49m\u001b[43m)\u001b[49m\n",
      "\u001b[36mFile \u001b[39m\u001b[32m/opt/anaconda3/envs/yt_sentiment_proj/lib/python3.12/site-packages/plotly/io/_renderers.py:415\u001b[39m, in \u001b[36mshow\u001b[39m\u001b[34m(fig, renderer, validate, **kwargs)\u001b[39m\n\u001b[32m    410\u001b[39m     \u001b[38;5;28;01mraise\u001b[39;00m \u001b[38;5;167;01mValueError\u001b[39;00m(\n\u001b[32m    411\u001b[39m         \u001b[33m\"\u001b[39m\u001b[33mMime type rendering requires ipython but it is not installed\u001b[39m\u001b[33m\"\u001b[39m\n\u001b[32m    412\u001b[39m     )\n\u001b[32m    414\u001b[39m \u001b[38;5;28;01mif\u001b[39;00m \u001b[38;5;129;01mnot\u001b[39;00m nbformat \u001b[38;5;129;01mor\u001b[39;00m Version(nbformat.__version__) < Version(\u001b[33m\"\u001b[39m\u001b[33m4.2.0\u001b[39m\u001b[33m\"\u001b[39m):\n\u001b[32m--> \u001b[39m\u001b[32m415\u001b[39m     \u001b[38;5;28;01mraise\u001b[39;00m \u001b[38;5;167;01mValueError\u001b[39;00m(\n\u001b[32m    416\u001b[39m         \u001b[33m\"\u001b[39m\u001b[33mMime type rendering requires nbformat>=4.2.0 but it is not installed\u001b[39m\u001b[33m\"\u001b[39m\n\u001b[32m    417\u001b[39m     )\n\u001b[32m    419\u001b[39m display_jupyter_version_warnings()\n\u001b[32m    421\u001b[39m ipython_display.display(bundle, raw=\u001b[38;5;28;01mTrue\u001b[39;00m)\n",
      "\u001b[31mValueError\u001b[39m: Mime type rendering requires nbformat>=4.2.0 but it is not installed"
     ]
    }
   ],
   "source": [
    "import plotly.express as px\n",
    "\n",
    "def plot_category_distribution(df, col='category', kind='bar',title=None):\n",
    "    s = df[col]\n",
    "    counts = s.value_counts()\n",
    "\n",
    "    data = counts.reset_index()\n",
    "    data.columns = [col, 'count']\n",
    "    data['percent'] = (data['count'] / data['count'].sum() * 100).round(2)\n",
    "\n",
    "    if title is None:\n",
    "        title = f\"Distribution of {col} (n={len(s)})\"\n",
    "\n",
    "    if kind == 'pie':\n",
    "        fig = px.pie(\n",
    "            data, names=col, values='count',\n",
    "            title=title, hole=0.35\n",
    "        )\n",
    "        fig.update_traces(textinfo='percent+label')\n",
    "    else:\n",
    "        order = data.sort_values('count', ascending=False)[col].tolist()\n",
    "        fig = px.bar(\n",
    "            data, x=col, y='count', text='count',\n",
    "            title=title, color=col, category_orders={col: order}\n",
    "        )\n",
    "        fig.update_traces(textposition='outside')\n",
    "        fig.update_layout(\n",
    "            xaxis_title=col, yaxis_title='Count',\n",
    "            showlegend=False, xaxis_tickangle=-45\n",
    "        )\n",
    "\n",
    "    fig.show()\n",
    "    return fig, data\n",
    "\n",
    "# usage\n",
    "plot_category_distribution(df, col='category', kind='bar')\n",
    "# plot_category_distribution(df, col='category', kind='pie', top_n=10)"
   ]
  },
  {
   "cell_type": "code",
   "execution_count": 68,
   "id": "9dd10bcb",
   "metadata": {},
   "outputs": [
    {
     "data": {
      "text/plain": [
       "Index(['comment', 'category', 'clean_comment'], dtype='object')"
      ]
     },
     "execution_count": 68,
     "metadata": {},
     "output_type": "execute_result"
    }
   ],
   "source": [
    "df.columns"
   ]
  },
  {
   "cell_type": "code",
   "execution_count": null,
   "id": "5a58c979",
   "metadata": {},
   "outputs": [],
   "source": []
  },
  {
   "cell_type": "code",
   "execution_count": null,
   "id": "3204b2af",
   "metadata": {},
   "outputs": [],
   "source": []
  },
  {
   "cell_type": "code",
   "execution_count": null,
   "id": "b9126418",
   "metadata": {},
   "outputs": [],
   "source": [
    "# count words in each clean_comment\n",
    "df['word_count'] = df['clean_comment'].fillna('').str.split().str.len()\n",
    "\n",
    "# (optional, a bit more robust to punctuation)\n",
    "# df['word_count'] = df['clean_comment'].fillna('').str.findall(r'\\b\\w+\\b').str.len()\n",
    "\n",
    "# quick check\n",
    "df[['clean_comment', 'word_count']].head()"
   ]
  },
  {
   "cell_type": "code",
   "execution_count": null,
   "id": "d537e20f",
   "metadata": {},
   "outputs": [],
   "source": [
    "# optional: remove English stopwords (uncomment if sklearn available)\n",
    "# from sklearn.feature_extraction.text import ENGLISH_STOP_WORDS\n",
    "# sw = ENGLISH_STOP_WORDS\n",
    "# df['clean_comment'] = df['clean_comment'].apply(lambda t: ' '.join(w for w in t.split() if w not in sw))"
   ]
  }
 ],
 "metadata": {
  "kernelspec": {
   "display_name": "yt_sentiment_proj",
   "language": "python",
   "name": "python3"
  },
  "language_info": {
   "codemirror_mode": {
    "name": "ipython",
    "version": 3
   },
   "file_extension": ".py",
   "mimetype": "text/x-python",
   "name": "python",
   "nbconvert_exporter": "python",
   "pygments_lexer": "ipython3",
   "version": "3.12.11"
  }
 },
 "nbformat": 4,
 "nbformat_minor": 5
}
